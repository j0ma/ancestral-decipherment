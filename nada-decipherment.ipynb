{
 "cells": [
  {
   "cell_type": "code",
   "execution_count": 79,
   "id": "53b19a74",
   "metadata": {},
   "outputs": [],
   "source": [
    "import pandas as pd\n",
    "import numpy as np\n",
    "import matplotlib.pyplot as plt\n",
    "from collections import Counter\n",
    "import rich\n",
    "from rich import print as pprint\n",
    "\n",
    "%matplotlib inline"
   ]
  },
  {
   "cell_type": "code",
   "execution_count": 64,
   "id": "9f50ca94",
   "metadata": {},
   "outputs": [],
   "source": [
    "abcd = list(\"abcd\")\n",
    "probs = [0.3, 0.3, 0.25, 0.15]"
   ]
  },
  {
   "cell_type": "code",
   "execution_count": 65,
   "id": "577bf376",
   "metadata": {},
   "outputs": [],
   "source": [
    "def sample_char():    \n",
    "    return np.random.choice(abcd, p=probs)"
   ]
  },
  {
   "cell_type": "code",
   "execution_count": 66,
   "id": "38e4f1ea",
   "metadata": {},
   "outputs": [],
   "source": [
    "def gen_plaintext(n=5):\n",
    "    return \"\".join(sample_char() for _ in range(n))"
   ]
  },
  {
   "cell_type": "code",
   "execution_count": 67,
   "id": "519e91aa",
   "metadata": {},
   "outputs": [
    {
     "data": {
      "text/plain": [
       "Counter({'b': 900, 'c': 748, 'd': 485, 'a': 867})"
      ]
     },
     "execution_count": 67,
     "metadata": {},
     "output_type": "execute_result"
    }
   ],
   "source": [
    "Counter(gen_plaintext(3000))"
   ]
  },
  {
   "cell_type": "code",
   "execution_count": 71,
   "id": "b80742ba",
   "metadata": {},
   "outputs": [],
   "source": [
    "def gen_key():\n",
    "    return {c: np.random.choice(abcd) for c in abcd}"
   ]
  },
  {
   "cell_type": "code",
   "execution_count": 76,
   "id": "6e7cfc7a",
   "metadata": {},
   "outputs": [],
   "source": [
    "key_abcd = gen_key()"
   ]
  },
  {
   "cell_type": "code",
   "execution_count": 80,
   "id": "3bc586ae",
   "metadata": {},
   "outputs": [
    {
     "data": {
      "text/html": [
       "<pre style=\"white-space:pre;overflow-x:auto;line-height:normal;font-family:Menlo,'DejaVu Sans Mono',consolas,'Courier New',monospace\"><span style=\"font-weight: bold\">{</span><span style=\"color: #008000; text-decoration-color: #008000\">'a'</span>: <span style=\"color: #008000; text-decoration-color: #008000\">'c'</span>, <span style=\"color: #008000; text-decoration-color: #008000\">'b'</span>: <span style=\"color: #008000; text-decoration-color: #008000\">'b'</span>, <span style=\"color: #008000; text-decoration-color: #008000\">'c'</span>: <span style=\"color: #008000; text-decoration-color: #008000\">'d'</span>, <span style=\"color: #008000; text-decoration-color: #008000\">'d'</span>: <span style=\"color: #008000; text-decoration-color: #008000\">'a'</span><span style=\"font-weight: bold\">}</span>\n",
       "</pre>\n"
      ],
      "text/plain": [
       "\u001b[1m{\u001b[0m\u001b[32m'a'\u001b[0m: \u001b[32m'c'\u001b[0m, \u001b[32m'b'\u001b[0m: \u001b[32m'b'\u001b[0m, \u001b[32m'c'\u001b[0m: \u001b[32m'd'\u001b[0m, \u001b[32m'd'\u001b[0m: \u001b[32m'a'\u001b[0m\u001b[1m}\u001b[0m\n"
      ]
     },
     "metadata": {},
     "output_type": "display_data"
    }
   ],
   "source": [
    "pprint(key_abcd)"
   ]
  },
  {
   "cell_type": "code",
   "execution_count": 81,
   "id": "6eae9db2",
   "metadata": {},
   "outputs": [],
   "source": [
    "def encrypt(msg, key):\n",
    "    return \"\".join(key[c] for c in msg)"
   ]
  },
  {
   "cell_type": "code",
   "execution_count": 84,
   "id": "681bab9b",
   "metadata": {},
   "outputs": [
    {
     "data": {
      "text/html": [
       "<pre style=\"white-space:pre;overflow-x:auto;line-height:normal;font-family:Menlo,'DejaVu Sans Mono',consolas,'Courier New',monospace\">cdcb\n",
       "</pre>\n"
      ],
      "text/plain": [
       "cdcb\n"
      ]
     },
     "metadata": {},
     "output_type": "display_data"
    }
   ],
   "source": [
    "pprint(encrypt(\"acab\", key_abcd))"
   ]
  },
  {
   "cell_type": "markdown",
   "id": "55e44573",
   "metadata": {},
   "source": [
    "### Character distribution: \"matching the bars\" reveals the ciphertext"
   ]
  },
  {
   "cell_type": "code",
   "execution_count": 108,
   "id": "3f7a914d",
   "metadata": {},
   "outputs": [],
   "source": [
    "def normalize(ctr, should_round=False, rounding=3):\n",
    "    s = sum(ctr.values())\n",
    "    return {k: round(cnt/s, rounding) if should_round else cnt/s for k, cnt in ctr.items()}"
   ]
  },
  {
   "cell_type": "code",
   "execution_count": 120,
   "id": "430e9ead",
   "metadata": {},
   "outputs": [],
   "source": [
    "some_plaintext = gen_plaintext(3000)\n",
    "some_ciphertext = encrypt(some_plaintext, key_abcd)"
   ]
  },
  {
   "cell_type": "code",
   "execution_count": 121,
   "id": "b07fdf20",
   "metadata": {},
   "outputs": [
    {
     "data": {
      "text/html": [
       "<pre style=\"white-space:pre;overflow-x:auto;line-height:normal;font-family:Menlo,'DejaVu Sans Mono',consolas,'Courier New',monospace\"><span style=\"font-weight: bold\">{</span><span style=\"color: #008000; text-decoration-color: #008000\">'b'</span>: <span style=\"color: #008080; text-decoration-color: #008080; font-weight: bold\">0.3</span>, <span style=\"color: #008000; text-decoration-color: #008000\">'a'</span>: <span style=\"color: #008080; text-decoration-color: #008080; font-weight: bold\">0.3</span>, <span style=\"color: #008000; text-decoration-color: #008000\">'d'</span>: <span style=\"color: #008080; text-decoration-color: #008080; font-weight: bold\">0.1</span>, <span style=\"color: #008000; text-decoration-color: #008000\">'c'</span>: <span style=\"color: #008080; text-decoration-color: #008080; font-weight: bold\">0.3</span><span style=\"font-weight: bold\">}</span>\n",
       "</pre>\n"
      ],
      "text/plain": [
       "\u001b[1m{\u001b[0m\u001b[32m'b'\u001b[0m: \u001b[1;36m0.3\u001b[0m, \u001b[32m'a'\u001b[0m: \u001b[1;36m0.3\u001b[0m, \u001b[32m'd'\u001b[0m: \u001b[1;36m0.1\u001b[0m, \u001b[32m'c'\u001b[0m: \u001b[1;36m0.3\u001b[0m\u001b[1m}\u001b[0m\n"
      ]
     },
     "metadata": {},
     "output_type": "display_data"
    }
   ],
   "source": [
    "pprint(normalize(Counter(some_plaintext), should_round=3, rounding=1))"
   ]
  },
  {
   "cell_type": "code",
   "execution_count": 122,
   "id": "6dd3dd50",
   "metadata": {},
   "outputs": [
    {
     "data": {
      "text/html": [
       "<pre style=\"white-space:pre;overflow-x:auto;line-height:normal;font-family:Menlo,'DejaVu Sans Mono',consolas,'Courier New',monospace\"><span style=\"font-weight: bold\">{</span><span style=\"color: #008000; text-decoration-color: #008000\">'b'</span>: <span style=\"color: #008080; text-decoration-color: #008080; font-weight: bold\">0.3</span>, <span style=\"color: #008000; text-decoration-color: #008000\">'c'</span>: <span style=\"color: #008080; text-decoration-color: #008080; font-weight: bold\">0.3</span>, <span style=\"color: #008000; text-decoration-color: #008000\">'a'</span>: <span style=\"color: #008080; text-decoration-color: #008080; font-weight: bold\">0.1</span>, <span style=\"color: #008000; text-decoration-color: #008000\">'d'</span>: <span style=\"color: #008080; text-decoration-color: #008080; font-weight: bold\">0.3</span><span style=\"font-weight: bold\">}</span>\n",
       "</pre>\n"
      ],
      "text/plain": [
       "\u001b[1m{\u001b[0m\u001b[32m'b'\u001b[0m: \u001b[1;36m0.3\u001b[0m, \u001b[32m'c'\u001b[0m: \u001b[1;36m0.3\u001b[0m, \u001b[32m'a'\u001b[0m: \u001b[1;36m0.1\u001b[0m, \u001b[32m'd'\u001b[0m: \u001b[1;36m0.3\u001b[0m\u001b[1m}\u001b[0m\n"
      ]
     },
     "metadata": {},
     "output_type": "display_data"
    }
   ],
   "source": [
    "pprint(normalize(Counter(some_ciphertext), should_round=3, rounding=1))"
   ]
  },
  {
   "cell_type": "code",
   "execution_count": 123,
   "id": "e1624e45",
   "metadata": {},
   "outputs": [
    {
     "data": {
      "text/html": [
       "<pre style=\"white-space:pre;overflow-x:auto;line-height:normal;font-family:Menlo,'DejaVu Sans Mono',consolas,'Courier New',monospace\"><span style=\"font-weight: bold\">{</span><span style=\"color: #008000; text-decoration-color: #008000\">'a'</span>: <span style=\"color: #008000; text-decoration-color: #008000\">'c'</span>, <span style=\"color: #008000; text-decoration-color: #008000\">'b'</span>: <span style=\"color: #008000; text-decoration-color: #008000\">'b'</span>, <span style=\"color: #008000; text-decoration-color: #008000\">'c'</span>: <span style=\"color: #008000; text-decoration-color: #008000\">'d'</span>, <span style=\"color: #008000; text-decoration-color: #008000\">'d'</span>: <span style=\"color: #008000; text-decoration-color: #008000\">'a'</span><span style=\"font-weight: bold\">}</span>\n",
       "</pre>\n"
      ],
      "text/plain": [
       "\u001b[1m{\u001b[0m\u001b[32m'a'\u001b[0m: \u001b[32m'c'\u001b[0m, \u001b[32m'b'\u001b[0m: \u001b[32m'b'\u001b[0m, \u001b[32m'c'\u001b[0m: \u001b[32m'd'\u001b[0m, \u001b[32m'd'\u001b[0m: \u001b[32m'a'\u001b[0m\u001b[1m}\u001b[0m\n"
      ]
     },
     "metadata": {},
     "output_type": "display_data"
    }
   ],
   "source": [
    "pprint(key_abcd)"
   ]
  },
  {
   "cell_type": "code",
   "execution_count": 136,
   "id": "2a44615b",
   "metadata": {},
   "outputs": [
    {
     "data": {
      "text/plain": [
       "Text(0.5, 1.0, 'Plaintext character distribution')"
      ]
     },
     "execution_count": 136,
     "metadata": {},
     "output_type": "execute_result"
    },
    {
     "data": {
      "image/png": "[encoded data removed]",
      "text/plain": [
       "<Figure size 864x432 with 1 Axes>"
      ]
     },
     "metadata": {
      "needs_background": "light"
     },
     "output_type": "display_data"
    }
   ],
   "source": [
    "g = pd.Series(list(some_plaintext)).hist(grid=False, figsize=(12, 6))\n",
    "g.set_title(\"Plaintext character distribution\")"
   ]
  },
  {
   "cell_type": "code",
   "execution_count": 135,
   "id": "b61f9631",
   "metadata": {},
   "outputs": [
    {
     "data": {
      "text/plain": [
       "Text(0.5, 1.0, 'Ciphertext character distribution')"
      ]
     },
     "execution_count": 135,
     "metadata": {},
     "output_type": "execute_result"
    },
    {
     "data": {
      "image/png": "[encoded data removed]",
      "text/plain": [
       "<Figure size 864x432 with 1 Axes>"
      ]
     },
     "metadata": {
      "needs_background": "light"
     },
     "output_type": "display_data"
    }
   ],
   "source": [
    "g = pd.Series(list(some_ciphertext)).hist(grid=False, figsize=(12, 6))\n",
    "g.set_title(\"Ciphertext character distribution\")"
   ]
  },
  {
   "cell_type": "markdown",
   "id": "a3ffbc8a",
   "metadata": {},
   "source": [
    "### Order statistic encoding"
   ]
  },
  {
   "cell_type": "code",
   "execution_count": 143,
   "id": "e11b67ef",
   "metadata": {},
   "outputs": [],
   "source": [
    "def frequency_encoding_key(plaintext: str) -> dict[str, int]:\n",
    "    return {sym: ix for ix, (sym, _) in enumerate(Counter(plaintext).most_common())}"
   ]
  },
  {
   "cell_type": "code",
   "execution_count": 144,
   "id": "e668c39e",
   "metadata": {},
   "outputs": [
    {
     "data": {
      "text/plain": [
       "{'b': 0, 'a': 1, 'c': 2, 'd': 3}"
      ]
     },
     "execution_count": 144,
     "metadata": {},
     "output_type": "execute_result"
    }
   ],
   "source": [
    "frequency_encoding_key(some_plaintext)"
   ]
  },
  {
   "cell_type": "code",
   "execution_count": 145,
   "id": "0dd48375",
   "metadata": {},
   "outputs": [
    {
     "data": {
      "text/plain": [
       "{'b': 0, 'c': 1, 'd': 2, 'a': 3}"
      ]
     },
     "execution_count": 145,
     "metadata": {},
     "output_type": "execute_result"
    }
   ],
   "source": [
    "frequency_encoding_key(some_ciphertext)"
   ]
  },
  {
   "cell_type": "code",
   "execution_count": 148,
   "id": "2fda35f6",
   "metadata": {},
   "outputs": [],
   "source": [
    "def match_plaintext_ciphertext(plaintext, ciphertext):\n",
    "    k_plain = frequency_encoding_key(plaintext)\n",
    "    k_cipher_inv = {v: k for k,v in frequency_encoding_key(ciphertext).items()}\n",
    "    return {sym: k_cipher_inv[freq] for sym, freq in k_plain.items()}"
   ]
  },
  {
   "cell_type": "code",
   "execution_count": 152,
   "id": "633d6375",
   "metadata": {},
   "outputs": [
    {
     "data": {
      "text/plain": [
       "{'b': 'b', 'a': 'c', 'c': 'd', 'd': 'a'}"
      ]
     },
     "execution_count": 152,
     "metadata": {},
     "output_type": "execute_result"
    }
   ],
   "source": [
    "match_plaintext_ciphertext(some_plaintext, some_ciphertext)"
   ]
  },
  {
   "cell_type": "code",
   "execution_count": 153,
   "id": "6a07aa56",
   "metadata": {},
   "outputs": [
    {
     "data": {
      "text/plain": [
       "{'a': 'c', 'b': 'b', 'c': 'd', 'd': 'a'}"
      ]
     },
     "execution_count": 153,
     "metadata": {},
     "output_type": "execute_result"
    }
   ],
   "source": [
    "key_abcd"
   ]
  },
  {
   "cell_type": "code",
   "execution_count": 155,
   "id": "a24c9cd8",
   "metadata": {},
   "outputs": [
    {
     "data": {
      "text/plain": [
       "True"
      ]
     },
     "execution_count": 155,
     "metadata": {},
     "output_type": "execute_result"
    }
   ],
   "source": [
    "match_plaintext_ciphertext(some_plaintext, some_ciphertext) == key_abcd"
   ]
  }
 ],
 "metadata": {
  "kernelspec": {
   "display_name": "Python 3 (ipykernel)",
   "language": "python",
   "name": "python3"
  },
  "language_info": {
   "codemirror_mode": {
    "name": "ipython",
    "version": 3
   },
   "file_extension": ".py",
   "mimetype": "text/x-python",
   "name": "python",
   "nbconvert_exporter": "python",
   "pygments_lexer": "ipython3",
   "version": "3.9.13"
  }
 },
 "nbformat": 4,
 "nbformat_minor": 5
}
